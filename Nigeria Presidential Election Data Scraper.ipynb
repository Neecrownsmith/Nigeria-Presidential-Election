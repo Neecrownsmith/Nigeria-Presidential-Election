{
 "cells": [
  {
   "cell_type": "markdown",
   "id": "b410b9f1",
   "metadata": {},
   "source": [
    "## Import the need libraries"
   ]
  },
  {
   "cell_type": "code",
   "execution_count": 1,
   "id": "a46fda71",
   "metadata": {},
   "outputs": [],
   "source": [
    "import requests\n",
    "import json\n",
    "import pandas as pd\n"
   ]
  },
  {
   "cell_type": "markdown",
   "id": "6f590b24",
   "metadata": {},
   "source": [
    "### After exploring the website https://liveresults.civichive.org/ using the web developers tool, it was discovered that the website uses hidden api to get the data it displays. "
   ]
  },
  {
   "cell_type": "code",
   "execution_count": 2,
   "id": "a105de4d",
   "metadata": {},
   "outputs": [],
   "source": [
    "states_url='https://liveresultsapi.civichive.org/api/v1/states' #url to the hidden APi\n",
    "states_raw=requests.get(states_url).text #make request to the api and get response as text\n",
    "states_data=json.loads(states_raw) #convert the response to json\n",
    "states_slug=[i['slug'] for i in states_data['data']] #get the slug name for each state(to access each states data)\n",
    "states_name=[i['name'] for i in states_data['data']] #get the name for each state\n",
    "\n",
    "nation_df=[]#create a list to save each states data\n",
    "\n",
    "\n",
    "\n",
    "    \n",
    "    \n"
   ]
  },
  {
   "cell_type": "markdown",
   "id": "8026bb59",
   "metadata": {},
   "source": [
    "### This loop goes over each state and retrieve the state's election data for the presidential election"
   ]
  },
  {
   "cell_type": "code",
   "execution_count": 3,
   "id": "9c6c8f02",
   "metadata": {},
   "outputs": [],
   "source": [
    "# Loop through each state name and its corresponding slug\n",
    "for state, slug in zip(states_name, states_slug):\n",
    "\n",
    "    # Build the URL to retrieve election results for the current state and year\n",
    "    result_url = f'https://liveresultsapi.civichive.org/api/v1/election/{slug}/2023/data'\n",
    "\n",
    "    # Make a request to the API and parse the response as JSON\n",
    "    result_raw = requests.get(result_url).text\n",
    "    result_data = json.loads(result_raw)\n",
    "\n",
    "    # Extract the number of votes for each political party from the response data\n",
    "    party_votes = {d['abbr']: d['vote'] for d in result_data['data']['presidential']['parties']}\n",
    "\n",
    "    # Extract the total number of registered voters and votes cast in the election\n",
    "    reg_voters = result_data['data']['presidential']['registeredVote']\n",
    "    total_votes = result_data['data']['presidential']['totalVote']\n",
    "\n",
    "    # Create a DataFrame for the current state with the election results\n",
    "    state_df = pd.DataFrame([[state] + list(party_votes.values()) + [total_votes] + [reg_voters]], \n",
    "                            columns=['State'] + list(party_votes.keys()) + ['Total Votes', 'Registered Voters'])\n",
    "\n",
    "    # Append the state DataFrame to the national DataFrame\n",
    "    nation_df.append(state_df)\n"
   ]
  },
  {
   "cell_type": "markdown",
   "id": "4bae99cb",
   "metadata": {},
   "source": [
    "### Concatenate all states dataframe in list nation_df into oe, format it and save it as election data.csv"
   ]
  },
  {
   "cell_type": "code",
   "execution_count": 5,
   "id": "ef5cdca5",
   "metadata": {},
   "outputs": [],
   "source": [
    "final=pd.concat(nation_df)\n",
    "final=final.reset_index().drop('index', axis=1)#reset the index\n",
    "final.to_csv('election data.csv', index=False)#save it"
   ]
  },
  {
   "cell_type": "code",
   "execution_count": null,
   "id": "2092e705",
   "metadata": {},
   "outputs": [],
   "source": []
  }
 ],
 "metadata": {
  "kernelspec": {
   "display_name": "Python 3 (ipykernel)",
   "language": "python",
   "name": "python3"
  },
  "language_info": {
   "codemirror_mode": {
    "name": "ipython",
    "version": 3
   },
   "file_extension": ".py",
   "mimetype": "text/x-python",
   "name": "python",
   "nbconvert_exporter": "python",
   "pygments_lexer": "ipython3",
   "version": "3.10.5"
  }
 },
 "nbformat": 4,
 "nbformat_minor": 5
}
